{
  "nbformat": 4,
  "nbformat_minor": 0,
  "metadata": {
    "colab": {
      "name": "broker-pt-br.ipynb",
      "provenance": [],
      "collapsed_sections": []
    },
    "kernelspec": {
      "name": "python3",
      "display_name": "Python 3"
    },
    "language_info": {
      "name": "python"
    }
  },
  "cells": [
    {
      "cell_type": "code",
      "source": [
        "import nltk\n",
        "nltk.download('punkt')"
      ],
      "metadata": {
        "colab": {
          "base_uri": "https://localhost:8080/"
        },
        "id": "4D-UrpbgRQPD",
        "outputId": "7c7acdb6-eb51-4ce2-87b3-092b7901258c"
      },
      "execution_count": 194,
      "outputs": [
        {
          "output_type": "stream",
          "name": "stdout",
          "text": [
            "[nltk_data] Downloading package punkt to /root/nltk_data...\n",
            "[nltk_data]   Package punkt is already up-to-date!\n"
          ]
        },
        {
          "output_type": "execute_result",
          "data": {
            "text/plain": [
              "True"
            ]
          },
          "metadata": {},
          "execution_count": 194
        }
      ]
    },
    {
      "cell_type": "code",
      "execution_count": 195,
      "metadata": {
        "id": "WQ0aa-k-KpQ9"
      },
      "outputs": [],
      "source": [
        "with open(\"articles.txt\", \"r\") as file:\n",
        "  articles = file.read()\n",
        "\n",
        "tokens = nltk.tokenize.word_tokenize(articles)\n"
      ]
    },
    {
      "cell_type": "code",
      "source": [
        "def createDBTester(archive):\n",
        "    testSituations = []\n",
        "    file = open(archive, \"r\")\n",
        "    for row in file:\n",
        "      right, wrong = row.split()\n",
        "      testSituations.append((right, wrong))\n",
        "    file.close()\n",
        "    return testSituations"
      ],
      "metadata": {
        "id": "48BwExuYGU4H"
      },
      "execution_count": 196,
      "outputs": []
    },
    {
      "cell_type": "code",
      "source": [
        "def extractOnlyWords(tokens):\n",
        "  words = []\n",
        "  for token in tokens:\n",
        "      if token.isalpha():\n",
        "        words.append(token.lower())\n",
        "  return words\n",
        "\n",
        "words = extractOnlyWords(tokens)\n",
        "print(\"Words amount: \", len(words))"
      ],
      "metadata": {
        "colab": {
          "base_uri": "https://localhost:8080/"
        },
        "id": "Vir7nvBkRdFO",
        "outputId": "3631b277-683b-4a07-a338-c224be461347"
      },
      "execution_count": 197,
      "outputs": [
        {
          "output_type": "stream",
          "name": "stdout",
          "text": [
            "Words amount:  393914\n"
          ]
        }
      ]
    },
    {
      "cell_type": "code",
      "source": [
        "letters = \"abcdefghijklmnopqrstuvwxyzàáâãèéêìíîòóôõùúûç\"\n",
        "\n",
        "def addLetter(wrongWord):\n",
        "  newWord = []\n",
        "  for left, right in wrongWord:\n",
        "    for letter in letters:\n",
        "      newWord.append(left + letter + right)\n",
        "  return newWord\n",
        "\n",
        "def deleteCaracter(wrongWord):\n",
        "  newWord = []\n",
        "  for left, right in wrongWord:\n",
        "    newWord.append(left + right[1:])\n",
        "  return newWord\n",
        "\n",
        "def invertLetter(wrongWord):\n",
        "  newWord = []\n",
        "  for left, right in wrongWord:\n",
        "    if len(right) > 1:\n",
        "      newWord.append(left + right[1] + right[0] + right[2:])\n",
        "  return newWord\n",
        "\n",
        "def tradeLetter(wrongWord):\n",
        "  newWord = []\n",
        "  for left, right in wrongWord:\n",
        "    for letter in letters:\n",
        "      newWord.append(left + letter + right[1:])\n",
        "  return newWord\n",
        "\n",
        "def possibilitiesFixWrongWord(wrongWord): \n",
        "  fragmentsWord = []\n",
        "  for i in range(len(wrongWord)+1):\n",
        "    fragmentsWord.append((wrongWord[:i],wrongWord[i:]))\n",
        "  possibilitiesWords = addLetter(fragmentsWord)\n",
        "  possibilitiesWords += deleteCaracter(fragmentsWord)\n",
        "  possibilitiesWords += tradeLetter(fragmentsWord)\n",
        "  possibilitiesWords += invertLetter(fragmentsWord)\n",
        "  return possibilitiesWords\n",
        "\n"
      ],
      "metadata": {
        "id": "YJltbIerWJbg"
      },
      "execution_count": 198,
      "outputs": []
    },
    {
      "cell_type": "code",
      "source": [
        "frequency = nltk.FreqDist(words)\n",
        "totalWords = len(set(words))\n",
        "wellKnownWords = set(words)\n",
        "\n",
        "def probability(possibleWord):\n",
        "  return frequency[possibleWord]/totalWords\n",
        "\n",
        "def segundBrokerStep(possibilitiesWords):\n",
        "  newWords = []\n",
        "  for word in possibilitiesWords:\n",
        "    newWords += possibilitiesFixWrongWord(word)\n",
        "  return newWords\n"
      ],
      "metadata": {
        "id": "XT7rxWFI3EaU"
      },
      "execution_count": 199,
      "outputs": []
    },
    {
      "cell_type": "code",
      "source": [
        "\n",
        "def accuracy(broker, testSituations, vocabulary):\n",
        "  hit = 0\n",
        "  unknownWords = 0\n",
        "  amountTry = len(testSituations)\n",
        "  transformPorcentage = 100\n",
        "  for rightWord, wrongWord in testSituations:\n",
        "    fixWord = broker(wrongWord)\n",
        "    unknownWords += (rightWord not in vocabulary)\n",
        "    if fixWord == rightWord:\n",
        "      hit += 1\n",
        "  accuracy = round(hit*transformPorcentage/amountTry, 2)\n",
        "  taxUnknownWords = round(unknownWords*transformPorcentage/amountTry, 2)\n",
        "  return f\"Acurrecy {accuracy}% of {amountTry} words. Unknown words: {taxUnknownWords}%\"\n",
        "\n"
      ],
      "metadata": {
        "id": "enk-Uplq_9DJ"
      },
      "execution_count": 200,
      "outputs": []
    },
    {
      "cell_type": "code",
      "source": [
        "def brokerV1(word):\n",
        "  return max(possibilitiesFixWrongWord(word), key=probability)\n",
        "\n",
        "def brokerV2(writeWord):\n",
        "  allWords = set(segundBrokerStep(possibilitiesFixWrongWord(writeWord)) + possibilitiesFixWrongWord(writeWord))\n",
        "  candidates = [writeWord]\n",
        "  for word in allWords:\n",
        "    if word in wellKnownWords:\n",
        "      candidates.append(word)\n",
        "  return max(candidates, key=probability)\n",
        "\n"
      ],
      "metadata": {
        "id": "L0poRzPbeW5t"
      },
      "execution_count": 201,
      "outputs": []
    },
    {
      "cell_type": "markdown",
      "source": [
        "## Change the name of the variable below to the word you would like to correct:\n"
      ],
      "metadata": {
        "id": "2niOfs6_7zYQ"
      }
    },
    {
      "cell_type": "code",
      "source": [
        "writeWord = \"lgiica\""
      ],
      "metadata": {
        "id": "v3HX1OV75yXg"
      },
      "execution_count": 202,
      "outputs": []
    },
    {
      "cell_type": "code",
      "source": [
        "print(\"brokerV1 result:\", brokerV1(writeWord))\n",
        "accuracy(brokerV1, createDBTester(\"words.txt\"), wellKnownWords)\n"
      ],
      "metadata": {
        "colab": {
          "base_uri": "https://localhost:8080/",
          "height": 53
        },
        "id": "U7vIz5AvDxPs",
        "outputId": "d781f015-9979-4673-a99c-a72899f40031"
      },
      "execution_count": 203,
      "outputs": [
        {
          "output_type": "stream",
          "name": "stdout",
          "text": [
            "brokerV1 result: algiica\n"
          ]
        },
        {
          "output_type": "execute_result",
          "data": {
            "text/plain": [
              "'Acurrecy 76.34% of 186 words. Unknown words: 6.99%'"
            ],
            "application/vnd.google.colaboratory.intrinsic+json": {
              "type": "string"
            }
          },
          "metadata": {},
          "execution_count": 203
        }
      ]
    },
    {
      "cell_type": "code",
      "source": [
        "print(\"brokerV2 result: \", brokerV2(writeWord))\n",
        "accuracy(brokerV2, createDBTester(\"words.txt\"), wellKnownWords)\n"
      ],
      "metadata": {
        "colab": {
          "base_uri": "https://localhost:8080/",
          "height": 53
        },
        "id": "cYel811v48PS",
        "outputId": "c0f06b2e-085d-451d-9643-949147da7e02"
      },
      "execution_count": 204,
      "outputs": [
        {
          "output_type": "stream",
          "name": "stdout",
          "text": [
            "brokerV2 result:  lógica\n"
          ]
        },
        {
          "output_type": "execute_result",
          "data": {
            "text/plain": [
              "'Acurrecy 55.91% of 186 words. Unknown words: 6.99%'"
            ],
            "application/vnd.google.colaboratory.intrinsic+json": {
              "type": "string"
            }
          },
          "metadata": {},
          "execution_count": 204
        }
      ]
    }
  ]
}